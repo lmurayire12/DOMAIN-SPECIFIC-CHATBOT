{
 "cells": [
  {
   "cell_type": "markdown",
   "id": "e3955680",
   "metadata": {},
   "source": [
    "# BudgetBuddy: Personal Finance Chatbot\n",
    "\n",
    "**Domain-Specific Chatbot using Fine-Tuned FLAN-T5 + RAG**\n",
    "\n"
   ]
  },
  {
   "cell_type": "code",
   "execution_count": 1,
   "id": "0803f84e",
   "metadata": {
    "colab": {
     "base_uri": "https://localhost:8080/"
    },
    "id": "0803f84e",
    "outputId": "6f738976-6bfe-4a8c-8445-e615f0767526"
   },
   "outputs": [
    {
     "name": "stderr",
     "output_type": "stream",
     "text": [
      "WARNING: Ignoring invalid distribution ~ (C:\\Python312\\Lib\\site-packages)\n",
      "WARNING: Ignoring invalid distribution ~ip (C:\\Python312\\Lib\\site-packages)\n",
      "WARNING: Ignoring invalid distribution ~~p (C:\\Python312\\Lib\\site-packages)\n",
      "WARNING: Ignoring invalid distribution ~ (C:\\Python312\\Lib\\site-packages)\n",
      "WARNING: Ignoring invalid distribution ~ip (C:\\Python312\\Lib\\site-packages)\n",
      "WARNING: Ignoring invalid distribution ~~p (C:\\Python312\\Lib\\site-packages)\n",
      "ERROR: Could not install packages due to an OSError: [Errno 13] Permission denied: 'C:\\\\Python312\\\\Scripts\\\\get_gprof'\n",
      "Consider using the `--user` option or check the permissions.\n",
      "\n",
      "\n",
      "[notice] A new release of pip is available: 23.2.1 -> 25.2\n",
      "[notice] To update, run: C:\\Python312\\python.exe -m pip install --upgrade pip\n"
     ]
    }
   ],
   "source": [
    "!pip install -q transformers sentence-transformers faiss-cpu langchain langchain-community tensorflow sacrebleu rouge_score gradio accelerate datasets"
   ]
  },
  {
   "cell_type": "markdown",
   "id": "85910d41",
   "metadata": {},
   "source": [
    "## Importing dependencies"
   ]
  },
  {
   "cell_type": "code",
   "execution_count": null,
   "id": "65431b3f",
   "metadata": {
    "colab": {
     "base_uri": "https://localhost:8080/"
    },
    "id": "65431b3f",
    "outputId": "a0fdfa80-7c21-4eea-887c-bb2718126c7b"
   },
   "outputs": [
    {
     "name": "stderr",
     "output_type": "stream",
     "text": [
      "c:\\Users\\HP\\AppData\\Local\\Programs\\Python\\Python313\\Lib\\site-packages\\tqdm\\auto.py:21: TqdmWarning: IProgress not found. Please update jupyter and ipywidgets. See https://ipywidgets.readthedocs.io/en/stable/user_install.html\n",
      "  from .autonotebook import tqdm as notebook_tqdm\n"
     ]
    },
    {
     "name": "stdout",
     "output_type": "stream",
     "text": [
      "WARNING:tensorflow:From C:\\Users\\HP\\AppData\\Roaming\\Python\\Python313\\site-packages\\tf_keras\\src\\losses.py:2976: The name tf.losses.sparse_softmax_cross_entropy is deprecated. Please use tf.compat.v1.losses.sparse_softmax_cross_entropy instead.\n",
      "\n",
      "All imports successful! Using TensorFlow backend.\n",
      "All imports successful! Using TensorFlow backend.\n"
     ]
    }
   ],
   "source": [
    "import os\n",
    "import json\n",
    "import re\n",
    "import math\n",
    "import pickle\n",
    "from pathlib import Path\n",
    "from datetime import datetime\n",
    "\n",
    "import pandas as pd\n",
    "import numpy as np\n",
    "\n",
    "import tensorflow as tf\n",
    "from transformers import AutoTokenizer, TFAutoModelForSeq2SeqLM, pipeline\n",
    "\n",
    "from sentence_transformers import SentenceTransformer\n",
    "from langchain.docstore.document import Document\n",
    "from langchain_community.embeddings import HuggingFaceEmbeddings\n",
    "from langchain_community.vectorstores import FAISS\n",
    "from langchain.chains import RetrievalQA\n",
    "from langchain.llms import HuggingFacePipeline\n",
    "\n",
    "from sacrebleu import corpus_bleu\n",
    "from rouge_score import rouge_scorer\n",
    "\n",
    "print(\"All imports successful! Using TensorFlow backend.\")"
   ]
  },
  {
   "cell_type": "markdown",
   "id": "58138590",
   "metadata": {},
   "source": [
    " 3. Setting configuration parameters"
   ]
  },
  {
   "cell_type": "code",
   "execution_count": null,
   "id": "3b2089ae",
   "metadata": {
    "colab": {
     "base_uri": "https://localhost:8080/"
    },
    "id": "3b2089ae",
    "outputId": "2febf005-3c94-41c3-dafe-95bb8d6ecb52"
   },
   "outputs": [
    {
     "name": "stdout",
     "output_type": "stream",
     "text": [
      "config set\n"
     ]
    }
   ],
   "source": [
    "\n",
    "DATA_PATH = 'https://raw.githubusercontent.com/lmurayire12/DOMAIN-SPECIFIC-CHATBOT/refs/heads/main/data/personal_transactions%20new.csv'  # adjust if needed\n",
    "NOTEBOOK_DIR = '/mnt/data/budgetbuddy_notebook'\n",
    "Path(NOTEBOOK_DIR).mkdir(parents=True, exist_ok=True)\n",
    "\n",
    "# Model choices\n",
    "SEQ2SEQ_MODEL = 'google/flan-t5-small'   # fine-tune with TensorFlow\n",
    "EMB_MODEL = 'sentence-transformers/all-MiniLM-L6-v2'  # embeddings for FAISS\n",
    "\n",
    "# Training settings\n",
    "BATCH_SIZE = 8\n",
    "EPOCHS = 3\n",
    "LEARNING_RATE = 5e-5\n",
    "MAX_INPUT_LENGTH = 256\n",
    "MAX_TARGET_LENGTH = 128\n"
   ]
  },
  {
   "cell_type": "markdown",
   "id": "d5607fdf",
   "metadata": {},
   "source": [
    "## Loading and cleaning transaction Data"
   ]
  },
  {
   "cell_type": "code",
   "execution_count": 22,
   "id": "46395491",
   "metadata": {
    "colab": {
     "base_uri": "https://localhost:8080/"
    },
    "id": "46395491",
    "outputId": "2b074e48-4f33-42fb-f02b-d1fe679e02c1"
   },
   "outputs": [
    {
     "name": "stderr",
     "output_type": "stream",
     "text": [
      "<>:22: SyntaxWarning: invalid escape sequence '\\s'\n",
      "<>:22: SyntaxWarning: invalid escape sequence '\\s'\n",
      "C:\\Users\\HP\\AppData\\Local\\Temp\\ipykernel_44992\\2119911753.py:22: SyntaxWarning: invalid escape sequence '\\s'\n",
      "  df['Description_clean'] = df['Description'].astype(str).str.lower().str.replace('[^a-z0-9 ]',' ', regex=True).str.replace('\\s+',' ', regex=True).str.strip()\n"
     ]
    },
    {
     "name": "stdout",
     "output_type": "stream",
     "text": [
      "loaded (806, 6)\n",
      "[{'Date': Timestamp('2018-01-01 00:00:00'), 'Description': 'Amazon', 'Amount': 11.11, 'Transaction Type': 'debit', 'Category': 'Shopping', 'Account Name': 'Platinum Card', 'SignedAmount': -11.11, 'Description_clean': 'amazon', 'Year': 2018, 'Month': 1}, {'Date': Timestamp('2018-01-02 00:00:00'), 'Description': 'Mortgage Payment', 'Amount': 1247.44, 'Transaction Type': 'debit', 'Category': 'Mortgage & Rent', 'Account Name': 'Checking', 'SignedAmount': -1247.44, 'Description_clean': 'mortgage payment', 'Year': 2018, 'Month': 1}, {'Date': Timestamp('2018-01-02 00:00:00'), 'Description': 'Thai Restaurant', 'Amount': 24.22, 'Transaction Type': 'debit', 'Category': 'Restaurants', 'Account Name': 'Silver Card', 'SignedAmount': -24.22, 'Description_clean': 'thai restaurant', 'Year': 2018, 'Month': 1}, {'Date': Timestamp('2018-01-03 00:00:00'), 'Description': 'Credit Card Payment', 'Amount': 2298.09, 'Transaction Type': 'credit', 'Category': 'Credit Card Payment', 'Account Name': 'Platinum Card', 'SignedAmount': 2298.09, 'Description_clean': 'credit card payment', 'Year': 2018, 'Month': 1}, {'Date': Timestamp('2018-01-04 00:00:00'), 'Description': 'Netflix', 'Amount': 11.76, 'Transaction Type': 'debit', 'Category': 'Movies & DVDs', 'Account Name': 'Platinum Card', 'SignedAmount': -11.76, 'Description_clean': 'netflix', 'Year': 2018, 'Month': 1}]\n"
     ]
    }
   ],
   "source": [
    "df = pd.read_csv(DATA_PATH, encoding='utf-8')\n",
    "print('loaded', df.shape)\n",
    "# Basic cleaning\n",
    "if 'Date' in df.columns:\n",
    "    df['Date'] = pd.to_datetime(df['Date'], errors='coerce')\n",
    "else:\n",
    "    df['Date'] = pd.NaT\n",
    "\n",
    "if 'Amount' in df.columns:\n",
    "    df['Amount'] = pd.to_numeric(df['Amount'], errors='coerce')\n",
    "else:\n",
    "    df['Amount'] = 0.0\n",
    "\n",
    "# creating SignedAmount if transcation type exists\n",
    "if 'Transaction Type' in df.columns:\n",
    "    df['SignedAmount'] = df.apply(lambda r: -abs(r['Amount']) if str(r['Transaction Type']).lower().strip()=='debit' else abs(r['Amount']), axis=1)\n",
    "else:\n",
    "    df['SignedAmount'] = df['Amount']\n",
    "\n",
    "# Cleaning description\n",
    "if 'Description' in df.columns:\n",
    "    df['Description_clean'] = df['Description'].astype(str).str.lower().str.replace('[^a-z0-9 ]',' ', regex=True).str.replace('\\s+',' ', regex=True).str.strip()\n",
    "else:\n",
    "    df['Description_clean'] = ''\n",
    "\n",
    "# Adding period columns\n",
    "if df['Date'].notna().any():\n",
    "    df['Year'] = df['Date'].dt.year\n",
    "    df['Month'] = df['Date'].dt.month\n",
    "else:\n",
    "    df['Year'] = np.nan\n",
    "    df['Month'] = np.nan\n",
    "\n",
    "print(df.head(5).to_dict(orient='records'))"
   ]
  },
  {
   "cell_type": "markdown",
   "id": "b2cd2c68",
   "metadata": {},
   "source": [
    "## Generating training dataset"
   ]
  },
  {
   "cell_type": "code",
   "execution_count": null,
   "id": "b1649dc6",
   "metadata": {
    "colab": {
     "base_uri": "https://localhost:8080/"
    },
    "id": "b1649dc6",
    "outputId": "1e6154f8-b89e-4337-c4df-a888977f6ba3"
   },
   "outputs": [
    {
     "name": "stdout",
     "output_type": "stream",
     "text": [
      "created 362 pairs. sample: [{'question': 'How much did I spend in January 2018?', 'context': 'amazon mortgage payment thai restaurant credit card payment netflix american tavern hardware store gas company hardware store spotify', 'answer': 'You spent $10094.34 in January 2018.', 'intent': 'aggregate'}, {'question': 'How much did I spend on Coffee Shops in January 2018?', 'context': 'starbucks', 'answer': 'You spent $3.00 on Coffee Shops in January 2018, mostly on starbucks.', 'intent': 'aggregate'}, {'question': 'How much did I spend on Credit Card Payment in January 2018?', 'context': 'credit card payment credit card payment credit card payment credit card payment credit card payment', 'answer': 'You spent $4027.69 on Credit Card Payment in January 2018, mostly on credit card payment.', 'intent': 'aggregate'}]\n"
     ]
    }
   ],
   "source": [
    "\n",
    "train_pairs = []\n",
    "for year in sorted(df['Year'].dropna().unique()):\n",
    "    ydf = df[df['Year']==year]\n",
    "    for month in sorted(ydf['Month'].dropna().unique()):\n",
    "        mdf = ydf[ydf['Month']==month]\n",
    "        if mdf.empty:\n",
    "            continue\n",
    "        # overall question\n",
    "        total = mdf['Amount'].sum()\n",
    "        month_name = datetime(int(year), int(month), 1).strftime('%B')\n",
    "        q = f\"How much did I spend in {month_name} {int(year)}?\"\n",
    "        a = f\"You spent ${total:.2f} in {month_name} {int(year)}.\"\n",
    "        train_pairs.append({'question': q, 'context': ' '.join(mdf['Description_clean'].head(10).tolist()), 'answer': a, 'intent':'aggregate'})\n",
    "        # per-category\n",
    "        for cat, g in mdf.groupby('Category'):\n",
    "            total_cat = g['Amount'].sum()\n",
    "            if total_cat==0:\n",
    "                continue\n",
    "            q = f\"How much did I spend on {cat} in {month_name} {int(year)}?\"\n",
    "            a = f\"You spent ${total_cat:.2f} on {cat} in {month_name} {int(year)}, mostly on {g['Description_clean'].mode().iloc[0] if not g['Description_clean'].mode().empty else 'various purchases'}.\"\n",
    "            train_pairs.append({'question': q, 'context': ' '.join(g['Description_clean'].head(10).tolist()), 'answer': a, 'intent':'aggregate'})\n",
    "\n",
    "#  adding some general questions (synthetic)\n",
    "train_pairs.append({'question':'What are my top 3 spending categories this year?','context':'','answer':'Your top 3 categories are: ' + ', '.join(df.groupby('Category')['Amount'].sum().abs().sort_values(ascending=False).head(3).index.astype(str)), 'intent':'summary'})\n",
    "\n",
    "# Saving dataset to disk for training/validation split\n",
    "DATASET_PATH = Path(NOTEBOOK_DIR)/'generated_dataset.jsonl'\n",
    "with open(DATASET_PATH,'w',encoding='utf-8') as f:\n",
    "    for rec in train_pairs:\n",
    "        f.write(json.dumps(rec) + '\\n')\n",
    "\n",
    "print('created', len(train_pairs), 'pairs. sample:', train_pairs[:3])"
   ]
  },
  {
   "cell_type": "markdown",
   "id": "ceb96c57",
   "metadata": {},
   "source": [
    "## Splitting the dataset into training and validation sets"
   ]
  },
  {
   "cell_type": "code",
   "execution_count": 6,
   "id": "a2237088",
   "metadata": {
    "colab": {
     "base_uri": "https://localhost:8080/"
    },
    "id": "a2237088",
    "outputId": "043afb83-5359-407c-8762-0f6d56d4095f"
   },
   "outputs": [
    {
     "name": "stdout",
     "output_type": "stream",
     "text": [
      "train/valid sizes: 325 37\n"
     ]
    }
   ],
   "source": [
    "from sklearn.model_selection import train_test_split\n",
    "pairs = train_pairs\n",
    "train, valid = train_test_split(pairs, test_size=0.1, random_state=42)\n",
    "TRAIN_PATH = Path(NOTEBOOK_DIR)/'train.jsonl'\n",
    "VALID_PATH = Path(NOTEBOOK_DIR)/'valid.jsonl'\n",
    "with open(TRAIN_PATH,'w',encoding='utf-8') as f:\n",
    "    for r in train:\n",
    "        f.write(json.dumps(r)+'\\n')\n",
    "with open(VALID_PATH,'w',encoding='utf-8') as f:\n",
    "    for r in valid:\n",
    "        f.write(json.dumps(r)+'\\n')\n",
    "print('train/valid sizes:', len(train), len(valid))"
   ]
  },
  {
   "cell_type": "markdown",
   "id": "66766341",
   "metadata": {},
   "source": [
    "## Preparing tokenizer and data pipeline"
   ]
  },
  {
   "cell_type": "code",
   "execution_count": null,
   "id": "d6ecb0f2",
   "metadata": {
    "colab": {
     "base_uri": "https://localhost:8080/"
    },
    "id": "d6ecb0f2",
    "outputId": "43444660-da83-4751-b390-b6d43d8e07aa"
   },
   "outputs": [
    {
     "name": "stdout",
     "output_type": "stream",
     "text": [
      "Loading tokenizer for google/flan-t5-small\n",
      "WARNING:tensorflow:From C:\\Users\\HP\\AppData\\Local\\Temp\\ipykernel_44992\\3686631792.py:28: calling DatasetV2.from_generator (from tensorflow.python.data.ops.dataset_ops) with output_types is deprecated and will be removed in a future version.\n",
      "Instructions for updating:\n",
      "Use output_signature instead\n",
      "WARNING:tensorflow:From C:\\Users\\HP\\AppData\\Local\\Temp\\ipykernel_44992\\3686631792.py:28: calling DatasetV2.from_generator (from tensorflow.python.data.ops.dataset_ops) with output_shapes is deprecated and will be removed in a future version.\n",
      "Instructions for updating:\n",
      "Use output_signature instead\n",
      "WARNING:tensorflow:From C:\\Users\\HP\\AppData\\Local\\Temp\\ipykernel_44992\\3686631792.py:28: calling DatasetV2.from_generator (from tensorflow.python.data.ops.dataset_ops) with output_types is deprecated and will be removed in a future version.\n",
      "Instructions for updating:\n",
      "Use output_signature instead\n",
      "WARNING:tensorflow:From C:\\Users\\HP\\AppData\\Local\\Temp\\ipykernel_44992\\3686631792.py:28: calling DatasetV2.from_generator (from tensorflow.python.data.ops.dataset_ops) with output_shapes is deprecated and will be removed in a future version.\n",
      "Instructions for updating:\n",
      "Use output_signature instead\n",
      "batch shapes (8, 256) (8, 256) (8, 128, 1)\n",
      "batch shapes (8, 256) (8, 256) (8, 128, 1)\n"
     ]
    }
   ],
   "source": [
    "from transformers import AutoTokenizer\n",
    "\n",
    "print('Loading tokenizer for', SEQ2SEQ_MODEL)\n",
    "tokenizer = AutoTokenizer.from_pretrained(SEQ2SEQ_MODEL)\n",
    "\n",
    "MAX_INPUT_LENGTH = 256\n",
    "MAX_TARGET_LENGTH = 128\n",
    "\n",
    "def encode_example(example):\n",
    "    inp = example['question']\n",
    "    if example.get('context'):\n",
    "        inp = inp + ' </s> CONTEXT: ' + example['context']\n",
    "    tgt = example['answer']\n",
    "    enc_inp = tokenizer(inp, truncation=True, padding='max_length', max_length=MAX_INPUT_LENGTH, return_tensors='np')\n",
    "    enc_tgt = tokenizer(tgt, truncation=True, padding='max_length', max_length=MAX_TARGET_LENGTH, return_tensors='np')\n",
    "    # Reshaping labels to have an extra dimension for compatibility with compiled loss\n",
    "    labels = enc_tgt['input_ids'][0]\n",
    "    labels = np.expand_dims(labels, axis=-1)\n",
    "    return {'input_ids': enc_inp['input_ids'][0], 'attention_mask': enc_inp['attention_mask'][0], 'labels': labels}\n",
    "\n",
    "\n",
    "def tf_dataset_from_jsonl(path, batch_size=8, shuffle=True):\n",
    "    examples = [json.loads(line) for line in open(path,'r',encoding='utf-8')]\n",
    "    encs = [encode_example(e) for e in examples]\n",
    "    def gen():\n",
    "        for e in encs:\n",
    "            yield (e['input_ids'], e['attention_mask'], e['labels'])\n",
    "    ds = tf.data.Dataset.from_generator(gen, output_types=(tf.int32, tf.int32, tf.int32), output_shapes=((MAX_INPUT_LENGTH,),(MAX_INPUT_LENGTH,),(MAX_TARGET_LENGTH, 1)))\n",
    "    if shuffle:\n",
    "        ds = ds.shuffle(1024)\n",
    "    ds = ds.batch(batch_size).prefetch(tf.data.AUTOTUNE)\n",
    "    return ds\n",
    "\n",
    "\n",
    "train_ds = tf_dataset_from_jsonl(str(TRAIN_PATH), batch_size=BATCH_SIZE)\n",
    "for x,y,z in train_ds.take(1):\n",
    "    print('batch shapes', x.shape, y.shape, z.shape)"
   ]
  },
  {
   "cell_type": "markdown",
   "id": "a31f15e7",
   "metadata": {},
   "source": [
    "## Loading FLAN-T5 model for fine-tuning"
   ]
  },
  {
   "cell_type": "code",
   "execution_count": 8,
   "id": "7363d1b3",
   "metadata": {
    "colab": {
     "base_uri": "https://localhost:8080/",
     "height": 240,
     "referenced_widgets": [
      "d5717f2713d341c7b9c374d47b4e6e2d",
      "ef583589ec604643af6bdca9ac6c10ba",
      "b3eadddc7b3c4358a0765f89e48953d5",
      "3b0aa858cdf741549478ce7eb094a8fb",
      "a5915998e68b4a078a90a7d19007750d",
      "695cd6f2e0994fc89d9b99f4943e8ad9",
      "40b8640a15ef468a9cb5449feaebce8c",
      "764a87a6499149fa87da56285a8dc619",
      "f467e0d30756432dbf1dcde83be2465c",
      "7026fd7d74454df7bdd871f590105d1d",
      "f458ed198f2240439dd0cb064feac1d5",
      "dd18c74250b94b7e83f65fa58e09aeaf",
      "610cb23752c0411499c62b88943e9367",
      "8ee8b4bd541341e8a4a8a7a43814cd88",
      "c4d1b6361e6e4512974490df6f25bbaf",
      "0b8e1885e5144a9cb38ddc3f52ad2b68",
      "ce45c33f0091493d9d437f2353738190",
      "4017eb735bdf4bfa86e7f4aa9a1ee7a7",
      "b05e504a08834f4e82ae6f6ca6895b59",
      "659dd836dd9e42e2856dea5b000e2a27",
      "1d4cd76b3d5549aaa0f11ae007e2b759",
      "7f1f127e49e64a68815df0bce508196c"
     ]
    },
    "id": "7363d1b3",
    "outputId": "1f0e321e-3205-4b5c-ddf8-49fd9b230523"
   },
   "outputs": [
    {
     "name": "stdout",
     "output_type": "stream",
     "text": [
      "Loading TF T5 model for fine-tuning...\n",
      "WARNING:tensorflow:From C:\\Users\\HP\\AppData\\Roaming\\Python\\Python313\\site-packages\\tf_keras\\src\\backend.py:873: The name tf.get_default_graph is deprecated. Please use tf.compat.v1.get_default_graph instead.\n",
      "\n"
     ]
    },
    {
     "name": "stderr",
     "output_type": "stream",
     "text": [
      "TensorFlow and JAX classes are deprecated and will be removed in Transformers v5. We recommend migrating to PyTorch classes or pinning your version of Transformers.\n",
      "C:\\Users\\HP\\AppData\\Roaming\\Python\\Python313\\site-packages\\tf_keras\\src\\initializers\\initializers.py:121: UserWarning: The initializer RandomNormal is unseeded and being called multiple times, which will return identical values each time (even if the initializer is unseeded). Please update your code to provide a seed to the initializer, or avoid using the same initializer instance more than once.\n",
      "  warnings.warn(\n",
      "All model checkpoint layers were used when initializing TFT5ForConditionalGeneration.\n",
      "\n",
      "All the layers of TFT5ForConditionalGeneration were initialized from the model checkpoint at google/flan-t5-small.\n",
      "If your task is similar to the task the model of the checkpoint was trained on, you can already use TFT5ForConditionalGeneration for predictions without further training.\n"
     ]
    },
    {
     "name": "stdout",
     "output_type": "stream",
     "text": [
      "Model loaded\n"
     ]
    }
   ],
   "source": [
    "from transformers import TFAutoModelForSeq2SeqLM\n",
    "print('Loading TF T5 model for fine-tuning...')\n",
    "model = TFAutoModelForSeq2SeqLM.from_pretrained(SEQ2SEQ_MODEL, use_safetensors=False)\n",
    "print('Model loaded')"
   ]
  },
  {
   "cell_type": "markdown",
   "id": "979e8bea",
   "metadata": {},
   "source": [
    "## Training the Model (Fine-Tuning)"
   ]
  },
  {
   "cell_type": "code",
   "execution_count": 9,
   "id": "7ca3b805",
   "metadata": {
    "colab": {
     "base_uri": "https://localhost:8080/"
    },
    "id": "7ca3b805",
    "outputId": "bf3bcb26-368e-4d00-9ce5-b4d54e032b24"
   },
   "outputs": [
    {
     "name": "stdout",
     "output_type": "stream",
     "text": [
      "Epoch 1/3\n",
      "WARNING:tensorflow:From C:\\Users\\HP\\AppData\\Roaming\\Python\\Python313\\site-packages\\tf_keras\\src\\utils\\tf_utils.py:492: The name tf.ragged.RaggedTensorValue is deprecated. Please use tf.compat.v1.ragged.RaggedTensorValue instead.\n",
      "\n",
      "     41/Unknown - 915s 19s/step - loss: 8132.9849WARNING:tensorflow:`evaluate()` received a value for `sample_weight`, but `weighted_metrics` were not provided.  Did you mean to pass metrics to `weighted_metrics` in `compile()`?  If this is intentional you can pass `weighted_metrics=[]` to `compile()` in order to silence this warning.\n",
      "INFO:tensorflow:Assets written to: \\mnt\\data\\budgetbuddy_notebook\\tf_ckpt\\best_model\\assets\n"
     ]
    },
    {
     "name": "stderr",
     "output_type": "stream",
     "text": [
      "INFO:tensorflow:Assets written to: \\mnt\\data\\budgetbuddy_notebook\\tf_ckpt\\best_model\\assets\n"
     ]
    },
    {
     "name": "stdout",
     "output_type": "stream",
     "text": [
      "41/41 [==============================] - 1048s 22s/step - loss: 8132.9849 - val_loss: 2486.9937\n",
      "Epoch 2/3\n",
      "41/41 [==============================] - ETA: 0s - loss: 2250.1250 WARNING:tensorflow:`evaluate()` received a value for `sample_weight`, but `weighted_metrics` were not provided.  Did you mean to pass metrics to `weighted_metrics` in `compile()`?  If this is intentional you can pass `weighted_metrics=[]` to `compile()` in order to silence this warning.\n"
     ]
    },
    {
     "name": "stderr",
     "output_type": "stream",
     "text": [
      "WARNING:tensorflow:`evaluate()` received a value for `sample_weight`, but `weighted_metrics` were not provided.  Did you mean to pass metrics to `weighted_metrics` in `compile()`?  If this is intentional you can pass `weighted_metrics=[]` to `compile()` in order to silence this warning.\n"
     ]
    },
    {
     "name": "stdout",
     "output_type": "stream",
     "text": [
      "INFO:tensorflow:Assets written to: \\mnt\\data\\budgetbuddy_notebook\\tf_ckpt\\best_model\\assets\n"
     ]
    },
    {
     "name": "stderr",
     "output_type": "stream",
     "text": [
      "INFO:tensorflow:Assets written to: \\mnt\\data\\budgetbuddy_notebook\\tf_ckpt\\best_model\\assets\n"
     ]
    },
    {
     "name": "stdout",
     "output_type": "stream",
     "text": [
      "41/41 [==============================] - 755s 18s/step - loss: 2250.1250 - val_loss: 1995.6543\n",
      "Epoch 3/3\n",
      "41/41 [==============================] - ETA: 0s - loss: 1925.4799 WARNING:tensorflow:`evaluate()` received a value for `sample_weight`, but `weighted_metrics` were not provided.  Did you mean to pass metrics to `weighted_metrics` in `compile()`?  If this is intentional you can pass `weighted_metrics=[]` to `compile()` in order to silence this warning.\n"
     ]
    },
    {
     "name": "stderr",
     "output_type": "stream",
     "text": [
      "WARNING:tensorflow:`evaluate()` received a value for `sample_weight`, but `weighted_metrics` were not provided.  Did you mean to pass metrics to `weighted_metrics` in `compile()`?  If this is intentional you can pass `weighted_metrics=[]` to `compile()` in order to silence this warning.\n"
     ]
    },
    {
     "name": "stdout",
     "output_type": "stream",
     "text": [
      "INFO:tensorflow:Assets written to: \\mnt\\data\\budgetbuddy_notebook\\tf_ckpt\\best_model\\assets\n"
     ]
    },
    {
     "name": "stderr",
     "output_type": "stream",
     "text": [
      "INFO:tensorflow:Assets written to: \\mnt\\data\\budgetbuddy_notebook\\tf_ckpt\\best_model\\assets\n"
     ]
    },
    {
     "name": "stdout",
     "output_type": "stream",
     "text": [
      "41/41 [==============================] - 788s 19s/step - loss: 1925.4799 - val_loss: 1769.5671\n",
      "training complete\n"
     ]
    }
   ],
   "source": [
    "# compiling  and training\n",
    "optimizer = tf.keras.optimizers.Adam(learning_rate=LEARNING_RATE)\n",
    "model.compile(optimizer=optimizer) # Remove loss function here\n",
    "\n",
    "# creating datasets\n",
    "train_ds = tf_dataset_from_jsonl(str(TRAIN_PATH), batch_size=BATCH_SIZE)\n",
    "valid_ds = tf_dataset_from_jsonl(str(VALID_PATH), batch_size=BATCH_SIZE, shuffle=False)\n",
    "\n",
    "# callbacks\n",
    "ckpt_dir = Path(NOTEBOOK_DIR)/'tf_ckpt'\n",
    "ckpt_dir.mkdir(parents=True, exist_ok=True)\n",
    "cp_cb = tf.keras.callbacks.ModelCheckpoint(str(ckpt_dir/ 'best_model'), save_weights_only=False, save_best_only=True, monitor='val_loss')\n",
    "early = tf.keras.callbacks.EarlyStopping(monitor='val_loss', patience=2)\n",
    "\n",
    "history = model.fit(train_ds, validation_data=valid_ds, epochs=EPOCHS, callbacks=[cp_cb, early])\n",
    "\n",
    "# saving final model\n",
    "model.save_pretrained(Path(NOTEBOOK_DIR)/'fine_tuned_t5')\n",
    "print('training complete')"
   ]
  },
  {
   "cell_type": "markdown",
   "id": "653382bc",
   "metadata": {},
   "source": [
    "## Evaluating model performance"
   ]
  },
  {
   "cell_type": "code",
   "execution_count": null,
   "id": "2ba33c25",
   "metadata": {
    "colab": {
     "base_uri": "https://localhost:8080/"
    },
    "id": "2ba33c25",
    "outputId": "00b3eea3-ab11-4b1d-a8ac-8a332a183f4f"
   },
   "outputs": [
    {
     "name": "stdout",
     "output_type": "stream",
     "text": [
      "Loading tokenizer from: google/flan-t5-small\n",
      "Loading model from: \\mnt\\data\\budgetbuddy_notebook\\fine_tuned_t5\n"
     ]
    },
    {
     "name": "stderr",
     "output_type": "stream",
     "text": [
      "C:\\Users\\HP\\AppData\\Roaming\\Python\\Python313\\site-packages\\tf_keras\\src\\initializers\\initializers.py:121: UserWarning: The initializer RandomNormal is unseeded and being called multiple times, which will return identical values each time (even if the initializer is unseeded). Please update your code to provide a seed to the initializer, or avoid using the same initializer instance more than once.\n",
      "  warnings.warn(\n",
      "All model checkpoint layers were used when initializing TFT5ForConditionalGeneration.\n",
      "\n",
      "All the layers of TFT5ForConditionalGeneration were initialized from the model checkpoint at \\mnt\\data\\budgetbuddy_notebook\\fine_tuned_t5.\n",
      "If your task is similar to the task the model of the checkpoint was trained on, you can already use TFT5ForConditionalGeneration for predictions without further training.\n",
      "TensorFlow and JAX classes are deprecated and will be removed in Transformers v5. We recommend migrating to PyTorch classes or pinning your version of Transformers.\n"
     ]
    },
    {
     "name": "stdout",
     "output_type": "stream",
     "text": [
      "BLEU: 0.04428722916403619 ROUGE: {'rouge1': 0.011589968346725104, 'rouge2': 0.005702405702405702, 'rougeL': 0.011589968346725104}\n"
     ]
    }
   ],
   "source": [
    "import os\n",
    "from transformers import AutoTokenizer, TFAutoModelForSeq2SeqLM\n",
    "\n",
    "fine_tuned_path = Path(NOTEBOOK_DIR)/'fine_tuned_t5'\n",
    "tokenizer_path = SEQ2SEQ_MODEL\n",
    "model_path = str(fine_tuned_path) if fine_tuned_path.exists() else SEQ2SEQ_MODEL\n",
    "\n",
    "\n",
    "# Loading tokenizer\n",
    "print(f\"Loading tokenizer from: {tokenizer_path}\")\n",
    "tokenizer = AutoTokenizer.from_pretrained(tokenizer_path)\n",
    "\n",
    "# Loading model\n",
    "print(f\"Loading model from: {model_path}\")\n",
    "model_for_eval = TFAutoModelForSeq2SeqLM.from_pretrained(model_path)\n",
    "\n",
    "\n",
    "scorer = rouge_scorer.RougeScorer(['rouge1','rouge2','rougeL'], use_stemmer=True)\n",
    "\n",
    "def generate_answer_tf(question, context=''):\n",
    "    inp = question\n",
    "    if context:\n",
    "        inp = inp + ' </s> CONTEXT: ' + context\n",
    "    enc = tokenizer(inp, return_tensors='tf', truncation=True, padding='max_length', max_length=MAX_INPUT_LENGTH)\n",
    "    out = model_for_eval.generate(enc['input_ids'], attention_mask=enc['attention_mask'], max_length=MAX_TARGET_LENGTH)\n",
    "    return tokenizer.decode(out[0], skip_special_tokens=True)\n",
    "\n",
    "# Evaluating on validation set\n",
    "refs = []\n",
    "hyps = []\n",
    "for line in open(str(VALID_PATH),'r',encoding='utf-8'):\n",
    "    ex = json.loads(line)\n",
    "    pred = generate_answer_tf(ex['question'], ex.get('context',''))\n",
    "    refs.append(ex['answer'])\n",
    "    hyps.append(pred)\n",
    "\n",
    "bleu = corpus_bleu(hyps, [refs])\n",
    "rouges = [scorer.score(r,h) for r,h in zip(refs,hyps)]\n",
    "avg_rouge = {k: sum(s[k].fmeasure for s in rouges)/len(rouges) for k in ['rouge1','rouge2','rougeL']}\n",
    "print('BLEU:', bleu.score, 'ROUGE:', avg_rouge)"
   ]
  },
  {
   "cell_type": "markdown",
   "id": "6941edfb",
   "metadata": {},
   "source": [
    "## Building FAISS Vector database for RAG"
   ]
  },
  {
   "cell_type": "code",
   "execution_count": null,
   "id": "61e5e746",
   "metadata": {
    "colab": {
     "base_uri": "https://localhost:8080/",
     "height": 66,
     "referenced_widgets": [
      "a4438fc14c4a4c26818178867694d581",
      "2880d5239a00430db69b08d69838c0e8",
      "91085e9704a34e9091d1226fda9f4a8a",
      "2e48bf78196d4afea4b046c638b4110b",
      "ca6edc128fb54ed696e56cbfdb1f3c3f",
      "34fb67078b934234aaac88f3a5dfe2df",
      "3f8ecd3b3cc24235af3f8cfab4969fce",
      "590a520ee3f0442bbd7197a827dcc792",
      "8b0fdd3bb7c64ac081e787ff6763bf9d",
      "cc7b15b198a94de9943e0b753162f718",
      "56411ec006e4417dbf16e6faae1512d8"
     ]
    },
    "id": "61e5e746",
    "outputId": "73950de3-f049-445e-e0a9-a4bfe9278799"
   },
   "outputs": [
    {
     "name": "stderr",
     "output_type": "stream",
     "text": [
      "Xet Storage is enabled for this repo, but the 'hf_xet' package is not installed. Falling back to regular HTTP download. For better performance, install the package with: `pip install huggingface_hub[hf_xet]` or `pip install hf_xet`\n",
      "WARNING:huggingface_hub.file_download:Xet Storage is enabled for this repo, but the 'hf_xet' package is not installed. Falling back to regular HTTP download. For better performance, install the package with: `pip install huggingface_hub[hf_xet]` or `pip install hf_xet`\n",
      "Batches: 100%|██████████| 26/26 [00:06<00:00,  3.73it/s]\n"
     ]
    },
    {
     "name": "stdout",
     "output_type": "stream",
     "text": [
      "FAISS index saved\n"
     ]
    }
   ],
   "source": [
    "# Building FAISS index from transactions for RAG\n",
    "sbert = SentenceTransformer(EMB_MODEL)\n",
    "texts = []\n",
    "metas = []\n",
    "for idx,row in df.iterrows():\n",
    "    date_str = str(row['Date']) if not pd.isna(row['Date']) else ''\n",
    "    txt = f\"DATE: {date_str} AMOUNT: {row['Amount']:.2f} CATEGORY: {row.get('Category','Unknown')} DESCRIPTION: {row.get('Description_clean','')}\"\n",
    "    texts.append(txt)\n",
    "    metas.append({'idx': int(idx), 'date': date_str, 'amount': float(row['Amount']), 'category': row.get('Category','Unknown')})\n",
    "embs = sbert.encode(texts, convert_to_numpy=True, show_progress_bar=True)\n",
    "import faiss\n",
    "\n",
    "faiss.normalize_L2(embs)\n",
    "index = faiss.IndexFlatIP(embs.shape[1])\n",
    "index.add(embs)\n",
    "# saving index and metadata\n",
    "faiss.write_index(index, str(Path(NOTEBOOK_DIR)/'transactions.faiss'))\n",
    "with open(Path(NOTEBOOK_DIR)/'faiss_meta.pkl','wb') as f:\n",
    "    pickle.dump({'texts':texts,'metas':metas}, f)\n",
    "print('FAISS index saved')"
   ]
  },
  {
   "cell_type": "markdown",
   "id": "fd113099",
   "metadata": {},
   "source": [
    "## Testing RAG retrieval system"
   ]
  },
  {
   "cell_type": "code",
   "execution_count": null,
   "id": "695addba",
   "metadata": {
    "colab": {
     "base_uri": "https://localhost:8080/"
    },
    "id": "695addba",
    "outputId": "7ea06a05-20b4-45cf-b745-632568a59409"
   },
   "outputs": [
    {
     "name": "stdout",
     "output_type": "stream",
     "text": [
      "('a biweekly paycheck', [{'score': 0.2846578359603882, 'text': 'DATE: 2019-03-26 00:00:00 AMOUNT: 16.04 CATEGORY: Shopping DESCRIPTION: amazon', 'meta': {'idx': 573, 'date': '2019-03-26 00:00:00', 'amount': 16.04, 'category': 'Shopping'}}, {'score': 0.27761968970298767, 'text': 'DATE: 2018-04-01 00:00:00 AMOUNT: 13.13 CATEGORY: Shopping DESCRIPTION: amazon', 'meta': {'idx': 110, 'date': '2018-04-01 00:00:00', 'amount': 13.13, 'category': 'Shopping'}}, {'score': 0.27242588996887207, 'text': 'DATE: 2019-05-09 00:00:00 AMOUNT: 3.20 CATEGORY: Shopping DESCRIPTION: target', 'meta': {'idx': 625, 'date': '2019-05-09 00:00:00', 'amount': 3.2, 'category': 'Shopping'}}, {'score': 0.27115923166275024, 'text': 'DATE: 2018-04-13 00:00:00 AMOUNT: 2000.00 CATEGORY: Paycheck DESCRIPTION: biweekly paycheck', 'meta': {'idx': 130, 'date': '2018-04-13 00:00:00', 'amount': 2000.0, 'category': 'Paycheck'}}])\n"
     ]
    }
   ],
   "source": [
    "import faiss\n",
    "index = faiss.read_index(str(Path(NOTEBOOK_DIR)/'transactions.faiss'))\n",
    "with open(Path(NOTEBOOK_DIR)/'faiss_meta.pkl','rb') as f:\n",
    "    meta = pickle.load(f)\n",
    "texts = meta['texts']\n",
    "metas = meta['metas']\n",
    "\n",
    "def retrieve_topk(query, k=5):\n",
    "    q_emb = sbert.encode([query], convert_to_numpy=True)\n",
    "    faiss.normalize_L2(q_emb)\n",
    "    D,I = index.search(q_emb, k)\n",
    "    results = []\n",
    "    for score, i in zip(D[0], I[0]):\n",
    "        results.append({'score': float(score), 'text': texts[i], 'meta': metas[i]})\n",
    "    return results\n",
    "\n",
    "# RAG generation using fine-tuned T5 \n",
    "\n",
    "def rag_answer(question, k=4):\n",
    "    retrieved = retrieve_topk(question, k=k)\n",
    "    context = '\\n'.join([r['text'] for r in retrieved])\n",
    "    ans = generate_answer_tf(question, context)\n",
    "    return ans, retrieved\n",
    "\n",
    "# testing\n",
    "print(rag_answer('Why did my spending increase last month?'))"
   ]
  },
  {
   "cell_type": "markdown",
   "id": "5324a253",
   "metadata": {},
   "source": [
    "## Creating rule-based query handler"
   ]
  },
  {
   "cell_type": "code",
   "execution_count": 13,
   "id": "91119017",
   "metadata": {
    "colab": {
     "base_uri": "https://localhost:8080/"
    },
    "id": "91119017",
    "outputId": "bda8c977-93d0-4c81-bf9b-3b2fa1ccd849"
   },
   "outputs": [
    {
     "name": "stdout",
     "output_type": "stream",
     "text": [
      "(9.62,           Date    Description  Amount Transaction Type       Category  \\\n",
      "192 2018-05-28  Movie Theater    9.62            debit  Entertainment   \n",
      "\n",
      "    Account Name  SignedAmount Description_clean  Year  Month  \n",
      "192  Silver Card         -9.62     movie theater  2018      5  )\n"
     ]
    }
   ],
   "source": [
    "import dateparser\n",
    "\n",
    "def parse_time_from_text(text):\n",
    "    dt = dateparser.parse(text, settings={'PREFER_DATES_FROM':'past'})\n",
    "    if dt:\n",
    "        return dt.year, dt.month\n",
    "    m = re.search(r'(20\\d{2})', text)\n",
    "    if m:\n",
    "        return int(m.group(1)), None\n",
    "    return None, None\n",
    "\n",
    "\n",
    "def structured_compute_spend(category=None, year=None, month=None):\n",
    "    df2 = df.copy()\n",
    "    if category:\n",
    "        df2 = df2[df2['Category'].str.lower()==category.lower()]\n",
    "    if year:\n",
    "        df2 = df2[df2['Year']==int(year)]\n",
    "    if month:\n",
    "        df2 = df2[df2['Month']==int(month)]\n",
    "    total = df2['Amount'].sum()\n",
    "    return round(float(total),2), df2\n",
    "\n",
    "# Example\n",
    "print(structured_compute_spend(category='Entertainment', year=2018))"
   ]
  },
  {
   "cell_type": "markdown",
   "id": "d859111f",
   "metadata": {},
   "source": [
    "## Installing additional dependency (dateparser)"
   ]
  },
  {
   "cell_type": "code",
   "execution_count": 14,
   "id": "6fda3216",
   "metadata": {
    "colab": {
     "base_uri": "https://localhost:8080/"
    },
    "id": "6fda3216",
    "outputId": "4f1e4d52-75ca-487f-ba5e-abbc03b42132"
   },
   "outputs": [
    {
     "name": "stderr",
     "output_type": "stream",
     "text": [
      "WARNING: Ignoring invalid distribution ~ (C:\\Python312\\Lib\\site-packages)\n",
      "WARNING: Ignoring invalid distribution ~ip (C:\\Python312\\Lib\\site-packages)\n",
      "WARNING: Ignoring invalid distribution ~~p (C:\\Python312\\Lib\\site-packages)\n",
      "WARNING: Ignoring invalid distribution ~ (C:\\Python312\\Lib\\site-packages)\n",
      "WARNING: Ignoring invalid distribution ~ip (C:\\Python312\\Lib\\site-packages)\n",
      "WARNING: Ignoring invalid distribution ~~p (C:\\Python312\\Lib\\site-packages)\n",
      "  WARNING: Failed to write executable - trying to use .deleteme logic\n",
      "ERROR: Could not install packages due to an OSError: [WinError 2] The system cannot find the file specified: 'C:\\\\Python312\\\\Scripts\\\\dateparser-download.exe' -> 'C:\\\\Python312\\\\Scripts\\\\dateparser-download.exe.deleteme'\n",
      "\n",
      "\n",
      "[notice] A new release of pip is available: 23.2.1 -> 25.2\n",
      "[notice] To update, run: C:\\Python312\\python.exe -m pip install --upgrade pip\n"
     ]
    }
   ],
   "source": [
    "!pip install -q dateparser"
   ]
  },
  {
   "cell_type": "markdown",
   "id": "38040ad9",
   "metadata": {},
   "source": [
    "## Building hybrid Question-Answering Pipeline"
   ]
  },
  {
   "cell_type": "code",
   "execution_count": null,
   "id": "390fde88",
   "metadata": {
    "colab": {
     "base_uri": "https://localhost:8080/"
    },
    "id": "390fde88",
    "outputId": "19f9fee3-a5b6-4649-927c-646dacd042c5"
   },
   "outputs": [
    {
     "name": "stdout",
     "output_type": "stream",
     "text": [
      "('You spent $9.62 on Entertainment, mostly on movie theater.', [{'Date': Timestamp('2018-05-28 00:00:00'), 'Description': 'Movie Theater', 'Amount': 9.62, 'Transaction Type': 'debit', 'Category': 'Entertainment', 'Account Name': 'Silver Card', 'SignedAmount': -9.62, 'Description_clean': 'movie theater', 'Year': 2018, 'Month': 5}])\n",
      "('a biweekly paycheck', [{'score': 0.2846578359603882, 'text': 'DATE: 2019-03-26 00:00:00 AMOUNT: 16.04 CATEGORY: Shopping DESCRIPTION: amazon', 'meta': {'idx': 573, 'date': '2019-03-26 00:00:00', 'amount': 16.04, 'category': 'Shopping'}}, {'score': 0.27761968970298767, 'text': 'DATE: 2018-04-01 00:00:00 AMOUNT: 13.13 CATEGORY: Shopping DESCRIPTION: amazon', 'meta': {'idx': 110, 'date': '2018-04-01 00:00:00', 'amount': 13.13, 'category': 'Shopping'}}, {'score': 0.27242588996887207, 'text': 'DATE: 2019-05-09 00:00:00 AMOUNT: 3.20 CATEGORY: Shopping DESCRIPTION: target', 'meta': {'idx': 625, 'date': '2019-05-09 00:00:00', 'amount': 3.2, 'category': 'Shopping'}}, {'score': 0.27115923166275024, 'text': 'DATE: 2018-04-13 00:00:00 AMOUNT: 2000.00 CATEGORY: Paycheck DESCRIPTION: biweekly paycheck', 'meta': {'idx': 130, 'date': '2018-04-13 00:00:00', 'amount': 2000.0, 'category': 'Paycheck'}}])\n"
     ]
    }
   ],
   "source": [
    "def detect_aggregate_question(text):\n",
    "    return bool(re.search(r'\\b(how much|total|sum|spent on|spent)\\b', text.lower()))\n",
    "\n",
    "\n",
    "def answer_pipeline(question):\n",
    "    \n",
    "    if detect_aggregate_question(question):\n",
    "        cats = df['Category'].dropna().unique().tolist()\n",
    "        found_cat = None\n",
    "        for c in cats:\n",
    "            if c.lower() in question.lower():\n",
    "                found_cat = c\n",
    "                break\n",
    "        year, month = parse_time_from_text(question)\n",
    "        total, subset = structured_compute_spend(category=found_cat, year=year, month=month)\n",
    "        if subset.empty:\n",
    "            ans, prov = rag_answer(question)\n",
    "            return ans, prov\n",
    "        extra = ''\n",
    "        if found_cat:\n",
    "            top_desc = subset['Description_clean'].value_counts().idxmax() if not subset['Description_clean'].empty else ''\n",
    "            extra = f', mostly on {top_desc}' if top_desc else ''\n",
    "            sentence = f\"You spent ${total:.2f} on {found_cat}\"\n",
    "            if year and month:\n",
    "                month_name = datetime(int(year), int(month), 1).strftime('%B') if month else ''\n",
    "                sentence += f\" in {month_name} {year}\"\n",
    "            sentence += extra + '.'\n",
    "            return sentence, subset.head(5).to_dict(orient='records')\n",
    "        else:\n",
    "            sentence = f\"You spent ${total:.2f}\"\n",
    "            return sentence, subset.head(5).to_dict(orient='records')\n",
    "    else:\n",
    "        ans, retrieved = rag_answer(question)\n",
    "        return ans, retrieved\n",
    "\n",
    "# test\n",
    "print(answer_pipeline('How much did I spend on Entertainment in May 2018?'))\n",
    "print(answer_pipeline('Why did my spending increase last month?'))"
   ]
  },
  {
   "cell_type": "markdown",
   "id": "67287263",
   "metadata": {},
   "source": [
    "## Copying model files to deployment folder"
   ]
  },
  {
   "cell_type": "code",
   "execution_count": null,
   "id": "be6ccaf0",
   "metadata": {},
   "outputs": [
    {
     "name": "stdout",
     "output_type": "stream",
     "text": [
      "Copying fine-tuned model to saved_models/...\n",
      "✓ Model copied to saved_models\\fine_tuned_t5\n",
      "✓ FAISS index copied to saved_models\\transactions.faiss\n",
      "✓ FAISS metadata copied to saved_models\\faiss_meta.pkl\n",
      "\n",
      " All files organized in saved_models/ folder!\n",
      "\n",
      "Directory structure:\n",
      "saved_models/\n",
      "├── fine_tuned_t5/        (T5 model files)\n",
      "├── transactions.faiss    (FAISS vector index)\n",
      "└── faiss_meta.pkl        (Transaction metadata)\n"
     ]
    }
   ],
   "source": [
    "import shutil\n",
    "\n",
    "# Creating organized directory structure\n",
    "saved_models_dir = Path('./saved_models')\n",
    "saved_models_dir.mkdir(exist_ok=True)\n",
    "\n",
    "local_model_dir = saved_models_dir / 'fine_tuned_t5'\n",
    "notebook_model_dir = Path(NOTEBOOK_DIR) / 'fine_tuned_t5'\n",
    "\n",
    "# Copying model files\n",
    "if notebook_model_dir.exists():\n",
    "    print(\"Copying fine-tuned model to saved_models/...\")\n",
    "    shutil.copytree(notebook_model_dir, local_model_dir, dirs_exist_ok=True)\n",
    "    print(f\"✓ Model copied to {local_model_dir}\")\n",
    "else:\n",
    "    print(f\"⚠ Model not found at {notebook_model_dir}\")\n",
    "\n",
    "# Copying FAISS index and metadata to saved_models folder\n",
    "faiss_source = Path(NOTEBOOK_DIR) / 'transactions.faiss'\n",
    "faiss_meta_source = Path(NOTEBOOK_DIR) / 'faiss_meta.pkl'\n",
    "\n",
    "if faiss_source.exists():\n",
    "    shutil.copy(str(faiss_source), str(saved_models_dir / 'transactions.faiss'))\n",
    "    print(f\"✓ FAISS index copied to {saved_models_dir / 'transactions.faiss'}\")\n",
    "else:\n",
    "    print(f\"⚠ FAISS index not found at {faiss_source}\")\n",
    "\n",
    "if faiss_meta_source.exists():\n",
    "    shutil.copy(str(faiss_meta_source), str(saved_models_dir / 'faiss_meta.pkl'))\n",
    "    print(f\"✓ FAISS metadata copied to {saved_models_dir / 'faiss_meta.pkl'}\")\n",
    "else:\n",
    "    print(f\"⚠ FAISS metadata not found at {faiss_meta_source}\")\n",
    "\n",
    "print(\"\\n All files organized in saved_models/ folder!\")\n",
    "print(\"\\nDirectory structure:\")\n",
    "print(\"saved_models/\")\n",
    "print(\"├── fine_tuned_t5/        (T5 model files)\")\n",
    "print(\"├── transactions.faiss    (FAISS vector index)\")\n",
    "print(\"└── faiss_meta.pkl        (Transaction metadata)\")"
   ]
  }
 ],
 "metadata": {
  "colab": {
   "provenance": []
  },
  "kernelspec": {
   "display_name": "Python 3",
   "name": "python3"
  },
  "language_info": {
   "codemirror_mode": {
    "name": "ipython",
    "version": 3
   },
   "file_extension": ".py",
   "mimetype": "text/x-python",
   "name": "python",
   "nbconvert_exporter": "python",
   "pygments_lexer": "ipython3",
   "version": "3.13.5"
  },
  "widgets": {
   "application/vnd.jupyter.widget-state+json": {
    "0b8e1885e5144a9cb38ddc3f52ad2b68": {
     "model_module": "@jupyter-widgets/base",
     "model_module_version": "1.2.0",
     "model_name": "LayoutModel",
     "state": {
      "_model_module": "@jupyter-widgets/base",
      "_model_module_version": "1.2.0",
      "_model_name": "LayoutModel",
      "_view_count": null,
      "_view_module": "@jupyter-widgets/base",
      "_view_module_version": "1.2.0",
      "_view_name": "LayoutView",
      "align_content": null,
      "align_items": null,
      "align_self": null,
      "border": null,
      "bottom": null,
      "display": null,
      "flex": null,
      "flex_flow": null,
      "grid_area": null,
      "grid_auto_columns": null,
      "grid_auto_flow": null,
      "grid_auto_rows": null,
      "grid_column": null,
      "grid_gap": null,
      "grid_row": null,
      "grid_template_areas": null,
      "grid_template_columns": null,
      "grid_template_rows": null,
      "height": null,
      "justify_content": null,
      "justify_items": null,
      "left": null,
      "margin": null,
      "max_height": null,
      "max_width": null,
      "min_height": null,
      "min_width": null,
      "object_fit": null,
      "object_position": null,
      "order": null,
      "overflow": null,
      "overflow_x": null,
      "overflow_y": null,
      "padding": null,
      "right": null,
      "top": null,
      "visibility": null,
      "width": null
     }
    },
    "1d4cd76b3d5549aaa0f11ae007e2b759": {
     "model_module": "@jupyter-widgets/base",
     "model_module_version": "1.2.0",
     "model_name": "LayoutModel",
     "state": {
      "_model_module": "@jupyter-widgets/base",
      "_model_module_version": "1.2.0",
      "_model_name": "LayoutModel",
      "_view_count": null,
      "_view_module": "@jupyter-widgets/base",
      "_view_module_version": "1.2.0",
      "_view_name": "LayoutView",
      "align_content": null,
      "align_items": null,
      "align_self": null,
      "border": null,
      "bottom": null,
      "display": null,
      "flex": null,
      "flex_flow": null,
      "grid_area": null,
      "grid_auto_columns": null,
      "grid_auto_flow": null,
      "grid_auto_rows": null,
      "grid_column": null,
      "grid_gap": null,
      "grid_row": null,
      "grid_template_areas": null,
      "grid_template_columns": null,
      "grid_template_rows": null,
      "height": null,
      "justify_content": null,
      "justify_items": null,
      "left": null,
      "margin": null,
      "max_height": null,
      "max_width": null,
      "min_height": null,
      "min_width": null,
      "object_fit": null,
      "object_position": null,
      "order": null,
      "overflow": null,
      "overflow_x": null,
      "overflow_y": null,
      "padding": null,
      "right": null,
      "top": null,
      "visibility": null,
      "width": null
     }
    },
    "2880d5239a00430db69b08d69838c0e8": {
     "model_module": "@jupyter-widgets/controls",
     "model_module_version": "1.5.0",
     "model_name": "HTMLModel",
     "state": {
      "_dom_classes": [],
      "_model_module": "@jupyter-widgets/controls",
      "_model_module_version": "1.5.0",
      "_model_name": "HTMLModel",
      "_view_count": null,
      "_view_module": "@jupyter-widgets/controls",
      "_view_module_version": "1.5.0",
      "_view_name": "HTMLView",
      "description": "",
      "description_tooltip": null,
      "layout": "IPY_MODEL_34fb67078b934234aaac88f3a5dfe2df",
      "placeholder": "​",
      "style": "IPY_MODEL_3f8ecd3b3cc24235af3f8cfab4969fce",
      "value": "Batches: 100%"
     }
    },
    "2e48bf78196d4afea4b046c638b4110b": {
     "model_module": "@jupyter-widgets/controls",
     "model_module_version": "1.5.0",
     "model_name": "HTMLModel",
     "state": {
      "_dom_classes": [],
      "_model_module": "@jupyter-widgets/controls",
      "_model_module_version": "1.5.0",
      "_model_name": "HTMLModel",
      "_view_count": null,
      "_view_module": "@jupyter-widgets/controls",
      "_view_module_version": "1.5.0",
      "_view_name": "HTMLView",
      "description": "",
      "description_tooltip": null,
      "layout": "IPY_MODEL_cc7b15b198a94de9943e0b753162f718",
      "placeholder": "​",
      "style": "IPY_MODEL_56411ec006e4417dbf16e6faae1512d8",
      "value": " 26/26 [00:09&lt;00:00,  2.95it/s]"
     }
    },
    "34fb67078b934234aaac88f3a5dfe2df": {
     "model_module": "@jupyter-widgets/base",
     "model_module_version": "1.2.0",
     "model_name": "LayoutModel",
     "state": {
      "_model_module": "@jupyter-widgets/base",
      "_model_module_version": "1.2.0",
      "_model_name": "LayoutModel",
      "_view_count": null,
      "_view_module": "@jupyter-widgets/base",
      "_view_module_version": "1.2.0",
      "_view_name": "LayoutView",
      "align_content": null,
      "align_items": null,
      "align_self": null,
      "border": null,
      "bottom": null,
      "display": null,
      "flex": null,
      "flex_flow": null,
      "grid_area": null,
      "grid_auto_columns": null,
      "grid_auto_flow": null,
      "grid_auto_rows": null,
      "grid_column": null,
      "grid_gap": null,
      "grid_row": null,
      "grid_template_areas": null,
      "grid_template_columns": null,
      "grid_template_rows": null,
      "height": null,
      "justify_content": null,
      "justify_items": null,
      "left": null,
      "margin": null,
      "max_height": null,
      "max_width": null,
      "min_height": null,
      "min_width": null,
      "object_fit": null,
      "object_position": null,
      "order": null,
      "overflow": null,
      "overflow_x": null,
      "overflow_y": null,
      "padding": null,
      "right": null,
      "top": null,
      "visibility": null,
      "width": null
     }
    },
    "3b0aa858cdf741549478ce7eb094a8fb": {
     "model_module": "@jupyter-widgets/controls",
     "model_module_version": "1.5.0",
     "model_name": "HTMLModel",
     "state": {
      "_dom_classes": [],
      "_model_module": "@jupyter-widgets/controls",
      "_model_module_version": "1.5.0",
      "_model_name": "HTMLModel",
      "_view_count": null,
      "_view_module": "@jupyter-widgets/controls",
      "_view_module_version": "1.5.0",
      "_view_name": "HTMLView",
      "description": "",
      "description_tooltip": null,
      "layout": "IPY_MODEL_7026fd7d74454df7bdd871f590105d1d",
      "placeholder": "​",
      "style": "IPY_MODEL_f458ed198f2240439dd0cb064feac1d5",
      "value": " 440M/440M [00:08&lt;00:00, 68.3MB/s]"
     }
    },
    "3f8ecd3b3cc24235af3f8cfab4969fce": {
     "model_module": "@jupyter-widgets/controls",
     "model_module_version": "1.5.0",
     "model_name": "DescriptionStyleModel",
     "state": {
      "_model_module": "@jupyter-widgets/controls",
      "_model_module_version": "1.5.0",
      "_model_name": "DescriptionStyleModel",
      "_view_count": null,
      "_view_module": "@jupyter-widgets/base",
      "_view_module_version": "1.2.0",
      "_view_name": "StyleView",
      "description_width": ""
     }
    },
    "4017eb735bdf4bfa86e7f4aa9a1ee7a7": {
     "model_module": "@jupyter-widgets/controls",
     "model_module_version": "1.5.0",
     "model_name": "DescriptionStyleModel",
     "state": {
      "_model_module": "@jupyter-widgets/controls",
      "_model_module_version": "1.5.0",
      "_model_name": "DescriptionStyleModel",
      "_view_count": null,
      "_view_module": "@jupyter-widgets/base",
      "_view_module_version": "1.2.0",
      "_view_name": "StyleView",
      "description_width": ""
     }
    },
    "40b8640a15ef468a9cb5449feaebce8c": {
     "model_module": "@jupyter-widgets/controls",
     "model_module_version": "1.5.0",
     "model_name": "DescriptionStyleModel",
     "state": {
      "_model_module": "@jupyter-widgets/controls",
      "_model_module_version": "1.5.0",
      "_model_name": "DescriptionStyleModel",
      "_view_count": null,
      "_view_module": "@jupyter-widgets/base",
      "_view_module_version": "1.2.0",
      "_view_name": "StyleView",
      "description_width": ""
     }
    },
    "56411ec006e4417dbf16e6faae1512d8": {
     "model_module": "@jupyter-widgets/controls",
     "model_module_version": "1.5.0",
     "model_name": "DescriptionStyleModel",
     "state": {
      "_model_module": "@jupyter-widgets/controls",
      "_model_module_version": "1.5.0",
      "_model_name": "DescriptionStyleModel",
      "_view_count": null,
      "_view_module": "@jupyter-widgets/base",
      "_view_module_version": "1.2.0",
      "_view_name": "StyleView",
      "description_width": ""
     }
    },
    "590a520ee3f0442bbd7197a827dcc792": {
     "model_module": "@jupyter-widgets/base",
     "model_module_version": "1.2.0",
     "model_name": "LayoutModel",
     "state": {
      "_model_module": "@jupyter-widgets/base",
      "_model_module_version": "1.2.0",
      "_model_name": "LayoutModel",
      "_view_count": null,
      "_view_module": "@jupyter-widgets/base",
      "_view_module_version": "1.2.0",
      "_view_name": "LayoutView",
      "align_content": null,
      "align_items": null,
      "align_self": null,
      "border": null,
      "bottom": null,
      "display": null,
      "flex": null,
      "flex_flow": null,
      "grid_area": null,
      "grid_auto_columns": null,
      "grid_auto_flow": null,
      "grid_auto_rows": null,
      "grid_column": null,
      "grid_gap": null,
      "grid_row": null,
      "grid_template_areas": null,
      "grid_template_columns": null,
      "grid_template_rows": null,
      "height": null,
      "justify_content": null,
      "justify_items": null,
      "left": null,
      "margin": null,
      "max_height": null,
      "max_width": null,
      "min_height": null,
      "min_width": null,
      "object_fit": null,
      "object_position": null,
      "order": null,
      "overflow": null,
      "overflow_x": null,
      "overflow_y": null,
      "padding": null,
      "right": null,
      "top": null,
      "visibility": null,
      "width": null
     }
    },
    "610cb23752c0411499c62b88943e9367": {
     "model_module": "@jupyter-widgets/controls",
     "model_module_version": "1.5.0",
     "model_name": "HTMLModel",
     "state": {
      "_dom_classes": [],
      "_model_module": "@jupyter-widgets/controls",
      "_model_module_version": "1.5.0",
      "_model_name": "HTMLModel",
      "_view_count": null,
      "_view_module": "@jupyter-widgets/controls",
      "_view_module_version": "1.5.0",
      "_view_name": "HTMLView",
      "description": "",
      "description_tooltip": null,
      "layout": "IPY_MODEL_ce45c33f0091493d9d437f2353738190",
      "placeholder": "​",
      "style": "IPY_MODEL_4017eb735bdf4bfa86e7f4aa9a1ee7a7",
      "value": "generation_config.json: 100%"
     }
    },
    "659dd836dd9e42e2856dea5b000e2a27": {
     "model_module": "@jupyter-widgets/controls",
     "model_module_version": "1.5.0",
     "model_name": "ProgressStyleModel",
     "state": {
      "_model_module": "@jupyter-widgets/controls",
      "_model_module_version": "1.5.0",
      "_model_name": "ProgressStyleModel",
      "_view_count": null,
      "_view_module": "@jupyter-widgets/base",
      "_view_module_version": "1.2.0",
      "_view_name": "StyleView",
      "bar_color": null,
      "description_width": ""
     }
    },
    "695cd6f2e0994fc89d9b99f4943e8ad9": {
     "model_module": "@jupyter-widgets/base",
     "model_module_version": "1.2.0",
     "model_name": "LayoutModel",
     "state": {
      "_model_module": "@jupyter-widgets/base",
      "_model_module_version": "1.2.0",
      "_model_name": "LayoutModel",
      "_view_count": null,
      "_view_module": "@jupyter-widgets/base",
      "_view_module_version": "1.2.0",
      "_view_name": "LayoutView",
      "align_content": null,
      "align_items": null,
      "align_self": null,
      "border": null,
      "bottom": null,
      "display": null,
      "flex": null,
      "flex_flow": null,
      "grid_area": null,
      "grid_auto_columns": null,
      "grid_auto_flow": null,
      "grid_auto_rows": null,
      "grid_column": null,
      "grid_gap": null,
      "grid_row": null,
      "grid_template_areas": null,
      "grid_template_columns": null,
      "grid_template_rows": null,
      "height": null,
      "justify_content": null,
      "justify_items": null,
      "left": null,
      "margin": null,
      "max_height": null,
      "max_width": null,
      "min_height": null,
      "min_width": null,
      "object_fit": null,
      "object_position": null,
      "order": null,
      "overflow": null,
      "overflow_x": null,
      "overflow_y": null,
      "padding": null,
      "right": null,
      "top": null,
      "visibility": null,
      "width": null
     }
    },
    "7026fd7d74454df7bdd871f590105d1d": {
     "model_module": "@jupyter-widgets/base",
     "model_module_version": "1.2.0",
     "model_name": "LayoutModel",
     "state": {
      "_model_module": "@jupyter-widgets/base",
      "_model_module_version": "1.2.0",
      "_model_name": "LayoutModel",
      "_view_count": null,
      "_view_module": "@jupyter-widgets/base",
      "_view_module_version": "1.2.0",
      "_view_name": "LayoutView",
      "align_content": null,
      "align_items": null,
      "align_self": null,
      "border": null,
      "bottom": null,
      "display": null,
      "flex": null,
      "flex_flow": null,
      "grid_area": null,
      "grid_auto_columns": null,
      "grid_auto_flow": null,
      "grid_auto_rows": null,
      "grid_column": null,
      "grid_gap": null,
      "grid_row": null,
      "grid_template_areas": null,
      "grid_template_columns": null,
      "grid_template_rows": null,
      "height": null,
      "justify_content": null,
      "justify_items": null,
      "left": null,
      "margin": null,
      "max_height": null,
      "max_width": null,
      "min_height": null,
      "min_width": null,
      "object_fit": null,
      "object_position": null,
      "order": null,
      "overflow": null,
      "overflow_x": null,
      "overflow_y": null,
      "padding": null,
      "right": null,
      "top": null,
      "visibility": null,
      "width": null
     }
    },
    "764a87a6499149fa87da56285a8dc619": {
     "model_module": "@jupyter-widgets/base",
     "model_module_version": "1.2.0",
     "model_name": "LayoutModel",
     "state": {
      "_model_module": "@jupyter-widgets/base",
      "_model_module_version": "1.2.0",
      "_model_name": "LayoutModel",
      "_view_count": null,
      "_view_module": "@jupyter-widgets/base",
      "_view_module_version": "1.2.0",
      "_view_name": "LayoutView",
      "align_content": null,
      "align_items": null,
      "align_self": null,
      "border": null,
      "bottom": null,
      "display": null,
      "flex": null,
      "flex_flow": null,
      "grid_area": null,
      "grid_auto_columns": null,
      "grid_auto_flow": null,
      "grid_auto_rows": null,
      "grid_column": null,
      "grid_gap": null,
      "grid_row": null,
      "grid_template_areas": null,
      "grid_template_columns": null,
      "grid_template_rows": null,
      "height": null,
      "justify_content": null,
      "justify_items": null,
      "left": null,
      "margin": null,
      "max_height": null,
      "max_width": null,
      "min_height": null,
      "min_width": null,
      "object_fit": null,
      "object_position": null,
      "order": null,
      "overflow": null,
      "overflow_x": null,
      "overflow_y": null,
      "padding": null,
      "right": null,
      "top": null,
      "visibility": null,
      "width": null
     }
    },
    "7f1f127e49e64a68815df0bce508196c": {
     "model_module": "@jupyter-widgets/controls",
     "model_module_version": "1.5.0",
     "model_name": "DescriptionStyleModel",
     "state": {
      "_model_module": "@jupyter-widgets/controls",
      "_model_module_version": "1.5.0",
      "_model_name": "DescriptionStyleModel",
      "_view_count": null,
      "_view_module": "@jupyter-widgets/base",
      "_view_module_version": "1.2.0",
      "_view_name": "StyleView",
      "description_width": ""
     }
    },
    "8b0fdd3bb7c64ac081e787ff6763bf9d": {
     "model_module": "@jupyter-widgets/controls",
     "model_module_version": "1.5.0",
     "model_name": "ProgressStyleModel",
     "state": {
      "_model_module": "@jupyter-widgets/controls",
      "_model_module_version": "1.5.0",
      "_model_name": "ProgressStyleModel",
      "_view_count": null,
      "_view_module": "@jupyter-widgets/base",
      "_view_module_version": "1.2.0",
      "_view_name": "StyleView",
      "bar_color": null,
      "description_width": ""
     }
    },
    "8ee8b4bd541341e8a4a8a7a43814cd88": {
     "model_module": "@jupyter-widgets/controls",
     "model_module_version": "1.5.0",
     "model_name": "FloatProgressModel",
     "state": {
      "_dom_classes": [],
      "_model_module": "@jupyter-widgets/controls",
      "_model_module_version": "1.5.0",
      "_model_name": "FloatProgressModel",
      "_view_count": null,
      "_view_module": "@jupyter-widgets/controls",
      "_view_module_version": "1.5.0",
      "_view_name": "ProgressView",
      "bar_style": "success",
      "description": "",
      "description_tooltip": null,
      "layout": "IPY_MODEL_b05e504a08834f4e82ae6f6ca6895b59",
      "max": 147,
      "min": 0,
      "orientation": "horizontal",
      "style": "IPY_MODEL_659dd836dd9e42e2856dea5b000e2a27",
      "value": 147
     }
    },
    "91085e9704a34e9091d1226fda9f4a8a": {
     "model_module": "@jupyter-widgets/controls",
     "model_module_version": "1.5.0",
     "model_name": "FloatProgressModel",
     "state": {
      "_dom_classes": [],
      "_model_module": "@jupyter-widgets/controls",
      "_model_module_version": "1.5.0",
      "_model_name": "FloatProgressModel",
      "_view_count": null,
      "_view_module": "@jupyter-widgets/controls",
      "_view_module_version": "1.5.0",
      "_view_name": "ProgressView",
      "bar_style": "success",
      "description": "",
      "description_tooltip": null,
      "layout": "IPY_MODEL_590a520ee3f0442bbd7197a827dcc792",
      "max": 26,
      "min": 0,
      "orientation": "horizontal",
      "style": "IPY_MODEL_8b0fdd3bb7c64ac081e787ff6763bf9d",
      "value": 26
     }
    },
    "a4438fc14c4a4c26818178867694d581": {
     "model_module": "@jupyter-widgets/controls",
     "model_module_version": "1.5.0",
     "model_name": "HBoxModel",
     "state": {
      "_dom_classes": [],
      "_model_module": "@jupyter-widgets/controls",
      "_model_module_version": "1.5.0",
      "_model_name": "HBoxModel",
      "_view_count": null,
      "_view_module": "@jupyter-widgets/controls",
      "_view_module_version": "1.5.0",
      "_view_name": "HBoxView",
      "box_style": "",
      "children": [
       "IPY_MODEL_2880d5239a00430db69b08d69838c0e8",
       "IPY_MODEL_91085e9704a34e9091d1226fda9f4a8a",
       "IPY_MODEL_2e48bf78196d4afea4b046c638b4110b"
      ],
      "layout": "IPY_MODEL_ca6edc128fb54ed696e56cbfdb1f3c3f"
     }
    },
    "a5915998e68b4a078a90a7d19007750d": {
     "model_module": "@jupyter-widgets/base",
     "model_module_version": "1.2.0",
     "model_name": "LayoutModel",
     "state": {
      "_model_module": "@jupyter-widgets/base",
      "_model_module_version": "1.2.0",
      "_model_name": "LayoutModel",
      "_view_count": null,
      "_view_module": "@jupyter-widgets/base",
      "_view_module_version": "1.2.0",
      "_view_name": "LayoutView",
      "align_content": null,
      "align_items": null,
      "align_self": null,
      "border": null,
      "bottom": null,
      "display": null,
      "flex": null,
      "flex_flow": null,
      "grid_area": null,
      "grid_auto_columns": null,
      "grid_auto_flow": null,
      "grid_auto_rows": null,
      "grid_column": null,
      "grid_gap": null,
      "grid_row": null,
      "grid_template_areas": null,
      "grid_template_columns": null,
      "grid_template_rows": null,
      "height": null,
      "justify_content": null,
      "justify_items": null,
      "left": null,
      "margin": null,
      "max_height": null,
      "max_width": null,
      "min_height": null,
      "min_width": null,
      "object_fit": null,
      "object_position": null,
      "order": null,
      "overflow": null,
      "overflow_x": null,
      "overflow_y": null,
      "padding": null,
      "right": null,
      "top": null,
      "visibility": null,
      "width": null
     }
    },
    "b05e504a08834f4e82ae6f6ca6895b59": {
     "model_module": "@jupyter-widgets/base",
     "model_module_version": "1.2.0",
     "model_name": "LayoutModel",
     "state": {
      "_model_module": "@jupyter-widgets/base",
      "_model_module_version": "1.2.0",
      "_model_name": "LayoutModel",
      "_view_count": null,
      "_view_module": "@jupyter-widgets/base",
      "_view_module_version": "1.2.0",
      "_view_name": "LayoutView",
      "align_content": null,
      "align_items": null,
      "align_self": null,
      "border": null,
      "bottom": null,
      "display": null,
      "flex": null,
      "flex_flow": null,
      "grid_area": null,
      "grid_auto_columns": null,
      "grid_auto_flow": null,
      "grid_auto_rows": null,
      "grid_column": null,
      "grid_gap": null,
      "grid_row": null,
      "grid_template_areas": null,
      "grid_template_columns": null,
      "grid_template_rows": null,
      "height": null,
      "justify_content": null,
      "justify_items": null,
      "left": null,
      "margin": null,
      "max_height": null,
      "max_width": null,
      "min_height": null,
      "min_width": null,
      "object_fit": null,
      "object_position": null,
      "order": null,
      "overflow": null,
      "overflow_x": null,
      "overflow_y": null,
      "padding": null,
      "right": null,
      "top": null,
      "visibility": null,
      "width": null
     }
    },
    "b3eadddc7b3c4358a0765f89e48953d5": {
     "model_module": "@jupyter-widgets/controls",
     "model_module_version": "1.5.0",
     "model_name": "FloatProgressModel",
     "state": {
      "_dom_classes": [],
      "_model_module": "@jupyter-widgets/controls",
      "_model_module_version": "1.5.0",
      "_model_name": "FloatProgressModel",
      "_view_count": null,
      "_view_module": "@jupyter-widgets/controls",
      "_view_module_version": "1.5.0",
      "_view_name": "ProgressView",
      "bar_style": "success",
      "description": "",
      "description_tooltip": null,
      "layout": "IPY_MODEL_764a87a6499149fa87da56285a8dc619",
      "max": 439831352,
      "min": 0,
      "orientation": "horizontal",
      "style": "IPY_MODEL_f467e0d30756432dbf1dcde83be2465c",
      "value": 439831352
     }
    },
    "c4d1b6361e6e4512974490df6f25bbaf": {
     "model_module": "@jupyter-widgets/controls",
     "model_module_version": "1.5.0",
     "model_name": "HTMLModel",
     "state": {
      "_dom_classes": [],
      "_model_module": "@jupyter-widgets/controls",
      "_model_module_version": "1.5.0",
      "_model_name": "HTMLModel",
      "_view_count": null,
      "_view_module": "@jupyter-widgets/controls",
      "_view_module_version": "1.5.0",
      "_view_name": "HTMLView",
      "description": "",
      "description_tooltip": null,
      "layout": "IPY_MODEL_1d4cd76b3d5549aaa0f11ae007e2b759",
      "placeholder": "​",
      "style": "IPY_MODEL_7f1f127e49e64a68815df0bce508196c",
      "value": " 147/147 [00:00&lt;00:00, 2.95kB/s]"
     }
    },
    "ca6edc128fb54ed696e56cbfdb1f3c3f": {
     "model_module": "@jupyter-widgets/base",
     "model_module_version": "1.2.0",
     "model_name": "LayoutModel",
     "state": {
      "_model_module": "@jupyter-widgets/base",
      "_model_module_version": "1.2.0",
      "_model_name": "LayoutModel",
      "_view_count": null,
      "_view_module": "@jupyter-widgets/base",
      "_view_module_version": "1.2.0",
      "_view_name": "LayoutView",
      "align_content": null,
      "align_items": null,
      "align_self": null,
      "border": null,
      "bottom": null,
      "display": null,
      "flex": null,
      "flex_flow": null,
      "grid_area": null,
      "grid_auto_columns": null,
      "grid_auto_flow": null,
      "grid_auto_rows": null,
      "grid_column": null,
      "grid_gap": null,
      "grid_row": null,
      "grid_template_areas": null,
      "grid_template_columns": null,
      "grid_template_rows": null,
      "height": null,
      "justify_content": null,
      "justify_items": null,
      "left": null,
      "margin": null,
      "max_height": null,
      "max_width": null,
      "min_height": null,
      "min_width": null,
      "object_fit": null,
      "object_position": null,
      "order": null,
      "overflow": null,
      "overflow_x": null,
      "overflow_y": null,
      "padding": null,
      "right": null,
      "top": null,
      "visibility": null,
      "width": null
     }
    },
    "cc7b15b198a94de9943e0b753162f718": {
     "model_module": "@jupyter-widgets/base",
     "model_module_version": "1.2.0",
     "model_name": "LayoutModel",
     "state": {
      "_model_module": "@jupyter-widgets/base",
      "_model_module_version": "1.2.0",
      "_model_name": "LayoutModel",
      "_view_count": null,
      "_view_module": "@jupyter-widgets/base",
      "_view_module_version": "1.2.0",
      "_view_name": "LayoutView",
      "align_content": null,
      "align_items": null,
      "align_self": null,
      "border": null,
      "bottom": null,
      "display": null,
      "flex": null,
      "flex_flow": null,
      "grid_area": null,
      "grid_auto_columns": null,
      "grid_auto_flow": null,
      "grid_auto_rows": null,
      "grid_column": null,
      "grid_gap": null,
      "grid_row": null,
      "grid_template_areas": null,
      "grid_template_columns": null,
      "grid_template_rows": null,
      "height": null,
      "justify_content": null,
      "justify_items": null,
      "left": null,
      "margin": null,
      "max_height": null,
      "max_width": null,
      "min_height": null,
      "min_width": null,
      "object_fit": null,
      "object_position": null,
      "order": null,
      "overflow": null,
      "overflow_x": null,
      "overflow_y": null,
      "padding": null,
      "right": null,
      "top": null,
      "visibility": null,
      "width": null
     }
    },
    "ce45c33f0091493d9d437f2353738190": {
     "model_module": "@jupyter-widgets/base",
     "model_module_version": "1.2.0",
     "model_name": "LayoutModel",
     "state": {
      "_model_module": "@jupyter-widgets/base",
      "_model_module_version": "1.2.0",
      "_model_name": "LayoutModel",
      "_view_count": null,
      "_view_module": "@jupyter-widgets/base",
      "_view_module_version": "1.2.0",
      "_view_name": "LayoutView",
      "align_content": null,
      "align_items": null,
      "align_self": null,
      "border": null,
      "bottom": null,
      "display": null,
      "flex": null,
      "flex_flow": null,
      "grid_area": null,
      "grid_auto_columns": null,
      "grid_auto_flow": null,
      "grid_auto_rows": null,
      "grid_column": null,
      "grid_gap": null,
      "grid_row": null,
      "grid_template_areas": null,
      "grid_template_columns": null,
      "grid_template_rows": null,
      "height": null,
      "justify_content": null,
      "justify_items": null,
      "left": null,
      "margin": null,
      "max_height": null,
      "max_width": null,
      "min_height": null,
      "min_width": null,
      "object_fit": null,
      "object_position": null,
      "order": null,
      "overflow": null,
      "overflow_x": null,
      "overflow_y": null,
      "padding": null,
      "right": null,
      "top": null,
      "visibility": null,
      "width": null
     }
    },
    "d5717f2713d341c7b9c374d47b4e6e2d": {
     "model_module": "@jupyter-widgets/controls",
     "model_module_version": "1.5.0",
     "model_name": "HBoxModel",
     "state": {
      "_dom_classes": [],
      "_model_module": "@jupyter-widgets/controls",
      "_model_module_version": "1.5.0",
      "_model_name": "HBoxModel",
      "_view_count": null,
      "_view_module": "@jupyter-widgets/controls",
      "_view_module_version": "1.5.0",
      "_view_name": "HBoxView",
      "box_style": "",
      "children": [
       "IPY_MODEL_ef583589ec604643af6bdca9ac6c10ba",
       "IPY_MODEL_b3eadddc7b3c4358a0765f89e48953d5",
       "IPY_MODEL_3b0aa858cdf741549478ce7eb094a8fb"
      ],
      "layout": "IPY_MODEL_a5915998e68b4a078a90a7d19007750d"
     }
    },
    "dd18c74250b94b7e83f65fa58e09aeaf": {
     "model_module": "@jupyter-widgets/controls",
     "model_module_version": "1.5.0",
     "model_name": "HBoxModel",
     "state": {
      "_dom_classes": [],
      "_model_module": "@jupyter-widgets/controls",
      "_model_module_version": "1.5.0",
      "_model_name": "HBoxModel",
      "_view_count": null,
      "_view_module": "@jupyter-widgets/controls",
      "_view_module_version": "1.5.0",
      "_view_name": "HBoxView",
      "box_style": "",
      "children": [
       "IPY_MODEL_610cb23752c0411499c62b88943e9367",
       "IPY_MODEL_8ee8b4bd541341e8a4a8a7a43814cd88",
       "IPY_MODEL_c4d1b6361e6e4512974490df6f25bbaf"
      ],
      "layout": "IPY_MODEL_0b8e1885e5144a9cb38ddc3f52ad2b68"
     }
    },
    "ef583589ec604643af6bdca9ac6c10ba": {
     "model_module": "@jupyter-widgets/controls",
     "model_module_version": "1.5.0",
     "model_name": "HTMLModel",
     "state": {
      "_dom_classes": [],
      "_model_module": "@jupyter-widgets/controls",
      "_model_module_version": "1.5.0",
      "_model_name": "HTMLModel",
      "_view_count": null,
      "_view_module": "@jupyter-widgets/controls",
      "_view_module_version": "1.5.0",
      "_view_name": "HTMLView",
      "description": "",
      "description_tooltip": null,
      "layout": "IPY_MODEL_695cd6f2e0994fc89d9b99f4943e8ad9",
      "placeholder": "​",
      "style": "IPY_MODEL_40b8640a15ef468a9cb5449feaebce8c",
      "value": "tf_model.h5: 100%"
     }
    },
    "f458ed198f2240439dd0cb064feac1d5": {
     "model_module": "@jupyter-widgets/controls",
     "model_module_version": "1.5.0",
     "model_name": "DescriptionStyleModel",
     "state": {
      "_model_module": "@jupyter-widgets/controls",
      "_model_module_version": "1.5.0",
      "_model_name": "DescriptionStyleModel",
      "_view_count": null,
      "_view_module": "@jupyter-widgets/base",
      "_view_module_version": "1.2.0",
      "_view_name": "StyleView",
      "description_width": ""
     }
    },
    "f467e0d30756432dbf1dcde83be2465c": {
     "model_module": "@jupyter-widgets/controls",
     "model_module_version": "1.5.0",
     "model_name": "ProgressStyleModel",
     "state": {
      "_model_module": "@jupyter-widgets/controls",
      "_model_module_version": "1.5.0",
      "_model_name": "ProgressStyleModel",
      "_view_count": null,
      "_view_module": "@jupyter-widgets/base",
      "_view_module_version": "1.2.0",
      "_view_name": "StyleView",
      "bar_color": null,
      "description_width": ""
     }
    }
   }
  }
 },
 "nbformat": 4,
 "nbformat_minor": 5
}
